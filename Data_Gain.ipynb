{
 "cells": [
  {
   "cell_type": "code",
   "execution_count": 10,
   "id": "d2695bea",
   "metadata": {},
   "outputs": [
    {
     "name": "stdout",
     "output_type": "stream",
     "text": [
      "=========开始移动图片============\n",
      "共：0张图片\n",
      "=========移动图片完成============\n",
      "训练集猫共：12500张图片\n",
      "训练集狗共：12500张图片\n"
     ]
    }
   ],
   "source": [
    "import glob\n",
    "import shutil\n",
    "import os\n",
    "\n",
    "#数据集目录\n",
    "path = \"C:/Users/huhon/Desktop/Artificial Intelligence/Tensorflow/dog_cat/data/dogs-vs-cats/train\"\n",
    "#训练集目录\n",
    "train_path = path+'/train'\n",
    "#测试集目录\n",
    "test_path = path+'/validation'\n",
    "\n",
    "#将某类图片移动到该类的文件夹下\n",
    "def img_to_file(path):\n",
    "    print(\"=========开始移动图片============\")\n",
    "    #如果没有dog类和cat类文件夹，则新建\n",
    "    if not os.path.exists(path+\"/dogs\"):\n",
    "            os.makedirs(path+\"/dogs\")\n",
    "    if not os.path.exists(path+\"/cats\"):\n",
    "            os.makedirs(path+\"/cats\")\n",
    "    print(\"共：{}张图片\".format(len(glob.glob(path+\"/*.jpg\"))))\n",
    "    #通过glob遍历到所有的.jpg文件\n",
    "    for imgPath in glob.glob(path+\"/*.jpg\"):\n",
    "        #print(imgPath)\n",
    "        #使用/划分\n",
    "        img=imgPath.strip(\"\\n\").replace(\"\\\\\",\"/\").split(\"/\")\n",
    "        #print(img)\n",
    "        #将图片移动到指定的文件夹中\n",
    "        if img[-1].split(\".\")[0] == \"cat\":\n",
    "            shutil.move(imgPath,path+\"/cats\")\n",
    "        if img[-1].split(\".\")[0] == \"dog\":\n",
    "            shutil.move(imgPath,path+\"/dogs\")\n",
    "    print(\"=========移动图片完成============\")    \n",
    "img_to_file(train_path)\n",
    "print(\"训练集猫共：{}张图片\".format(len(glob.glob(train_path+\"/cats/*.jpg\"))))\n",
    "print(\"训练集狗共：{}张图片\".format(len(glob.glob(train_path+\"/dogs/*.jpg\"))))"
   ]
  },
  {
   "cell_type": "code",
   "execution_count": 11,
   "id": "e92bf6df",
   "metadata": {},
   "outputs": [
    {
     "name": "stdout",
     "output_type": "stream",
     "text": [
      " Volume in drive C is OS\n",
      " Volume Serial Number is 92C6-1DBA\n",
      "\n",
      " Directory of C:\\Users\\huhon\\Desktop\\Artificial Intelligence\\Tensorflow\\dog_cat\n",
      "\n",
      "2021/10/09  11:14    <DIR>          .\n",
      "2021/10/09  11:14    <DIR>          ..\n",
      "2021/10/09  11:04    <DIR>          .ipynb_checkpoints\n",
      "2021/10/09  10:35               576 cat_dog.ipynb\n",
      "2021/10/09  10:55    <DIR>          data\n",
      "2021/10/09  11:14             3,623 Data_Gain.ipynb\n",
      "               2 File(s)          4,199 bytes\n",
      "               4 Dir(s)  160,502,079,488 bytes free\n"
     ]
    }
   ],
   "source": [
    "ls"
   ]
  },
  {
   "cell_type": "code",
   "execution_count": 13,
   "id": "6bb1aef9",
   "metadata": {},
   "outputs": [
    {
     "name": "stdout",
     "output_type": "stream",
     "text": [
      "=========开始移动图片============\n",
      "=========移动图片完成============\n",
      "=========开始移动图片============\n",
      "=========移动图片完成============\n"
     ]
    }
   ],
   "source": [
    "import random\n",
    "\n",
    "def split_train_test(fileDir,tarDir):\n",
    "\n",
    "        if not os.path.exists(tarDir):\n",
    "            os.makedirs(tarDir)\n",
    "        pathDir = os.listdir(fileDir)    #取图片的原始路径\n",
    "        filenumber=len(pathDir)\n",
    "        rate=0.1    #自定义抽取图片的比例，比方说100张抽10张，那就是0.1\n",
    "        picknumber=int(filenumber*rate) #按照rate比例从文件夹中取一定数量图片\n",
    "        sample = random.sample(pathDir, picknumber)  #随机选取picknumber数量的样本图片\n",
    "        print(\"=========开始移动图片============\")\n",
    "        for name in sample:\n",
    "                shutil.move(fileDir+name, tarDir+name)\n",
    "        print(\"=========移动图片完成============\")\n",
    "split_train_test(train_path+'/dogs/',test_path+'/dogs/')  \n",
    "split_train_test(train_path+'/cats/',test_path+'/cats/')  "
   ]
  },
  {
   "cell_type": "code",
   "execution_count": null,
   "id": "901e0f4f",
   "metadata": {},
   "outputs": [],
   "source": []
  }
 ],
 "metadata": {
  "kernelspec": {
   "display_name": "Python 3",
   "language": "python",
   "name": "python3"
  },
  "language_info": {
   "codemirror_mode": {
    "name": "ipython",
    "version": 3
   },
   "file_extension": ".py",
   "mimetype": "text/x-python",
   "name": "python",
   "nbconvert_exporter": "python",
   "pygments_lexer": "ipython3",
   "version": "3.8.8"
  }
 },
 "nbformat": 4,
 "nbformat_minor": 5
}
